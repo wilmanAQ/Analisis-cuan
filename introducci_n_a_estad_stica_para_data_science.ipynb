{
  "cells": [
    {
      "cell_type": "markdown",
      "metadata": {
        "id": "view-in-github",
        "colab_type": "text"
      },
      "source": [
        "<a href=\"https://colab.research.google.com/github/wilmanAQ/Analisis-cuan/blob/main/introducci_n_a_estad_stica_para_data_science.ipynb\" target=\"_parent\"><img src=\"https://colab.research.google.com/assets/colab-badge.svg\" alt=\"Open In Colab\"/></a>"
      ]
    },
    {
      "cell_type": "markdown",
      "metadata": {
        "id": "m8qZHS5NfjBu"
      },
      "source": [
        "# Programa de Ingenería en Sistemas\n",
        "\n",
        "### Asignatura Inteligencia Artificial\n",
        "<p style=\"font-size:23px; color:gray; text-align:false;\">\n",
        "\n",
        "<b>Grupo:</b> IS08N1.\n",
        "\n",
        "\n",
        "</p>\n",
        "\n",
        "<div style=\"display: flex; justify-content: space-between; align-items: center\">\n",
        "  <img src=\"https://github.com/wilmanAQ/Inteligencia_Artificial/blob/IA/icono_unipacifico.jpeg?raw=1\" width=\"100\">\n",
        "  <img src=\"https://github.com/wilmanAQ/Inteligencia_Artificial/blob/IA/icono_PIS.png?raw=1\" width=\"270\">\n",
        "</div>\n",
        "\n",
        "<b>MEDIDAS DE TENDENCIA CENTRAL Y REGRESION LIENEAL- </b>Programa de Ingenería de Sistemas<b>.\n",
        "\n",
        "<b>Created by:</b> Msc. Wilman Andrés Quiñonez V."
      ]
    },
    {
      "cell_type": "markdown",
      "metadata": {
        "id": "E8jLxu7vfjBw"
      },
      "source": [
        "# Haciendo el setup del entorno\n",
        "\n",
        "Debajo importaremos e instalaremos todas las librerías necesarias para ese módulo:"
      ]
    },
    {
      "cell_type": "code",
      "execution_count": null,
      "metadata": {
        "id": "Y-4KF5t2fjBw",
        "outputId": "7922290c-0ae2-41bd-d30e-bbc4dbc930f6"
      },
      "outputs": [
        {
          "name": "stdout",
          "output_type": "stream",
          "text": [
            "f:\\PERIODO_2025_2\\INTELIGENCIA_ARTIFICIAL\\AI_GITHUG\\Inteligencia_Artificial\\notebook\\.venv\\Scripts\\python.exe\n"
          ]
        }
      ],
      "source": [
        "import sys\n",
        "print(sys.executable)\n"
      ]
    },
    {
      "cell_type": "code",
      "execution_count": null,
      "metadata": {
        "id": "2z_5vABofjBy",
        "outputId": "f6a3e3a5-dbf7-4a81-d9d2-0f7d069fd2b1"
      },
      "outputs": [
        {
          "name": "stdout",
          "output_type": "stream",
          "text": [
            "Requirement already satisfied: scipy in f:\\periodo_2025_2\\inteligencia_artificial\\ai_githug\\inteligencia_artificial\\notebook\\.venv\\lib\\site-packages (1.16.2)\n",
            "Requirement already satisfied: numpy<2.6,>=1.25.2 in f:\\periodo_2025_2\\inteligencia_artificial\\ai_githug\\inteligencia_artificial\\notebook\\.venv\\lib\\site-packages (from scipy) (2.3.3)\n"
          ]
        },
        {
          "name": "stderr",
          "output_type": "stream",
          "text": [
            "\n",
            "[notice] A new release of pip is available: 24.2 -> 25.2\n",
            "[notice] To update, run: python.exe -m pip install --upgrade pip\n"
          ]
        }
      ],
      "source": [
        "!{sys.executable} -m pip install scipy\n"
      ]
    },
    {
      "cell_type": "code",
      "execution_count": null,
      "metadata": {
        "execution": {
          "iopub.execute_input": "2025-09-29T16:42:38.399781Z",
          "iopub.status.busy": "2025-09-29T16:42:38.399380Z",
          "iopub.status.idle": "2025-09-29T16:42:38.423932Z",
          "shell.execute_reply": "2025-09-29T16:42:38.422658Z",
          "shell.execute_reply.started": "2025-09-29T16:42:38.399689Z"
        },
        "trusted": true,
        "id": "9XxnK6glfjBz"
      },
      "outputs": [],
      "source": [
        "import pandas as pd\n",
        "import numpy as np\n",
        "import matplotlib.pyplot as plt\n",
        "from IPython.display import Image\n",
        "from scipy import stats\n"
      ]
    },
    {
      "cell_type": "code",
      "execution_count": null,
      "metadata": {
        "id": "bmzsCsawfjBz",
        "outputId": "31896cff-ce8f-4988-b1cc-c73eb3f7d623"
      },
      "outputs": [
        {
          "name": "stderr",
          "output_type": "stream",
          "text": [
            "Ya existe el subdirectorio o el archivo C:\\Users\\Wilmar\\.kaggle.\n"
          ]
        }
      ],
      "source": [
        "!mkdir %userprofile%\\.kaggle"
      ]
    },
    {
      "cell_type": "code",
      "execution_count": null,
      "metadata": {
        "id": "w8xsZQH0fjBz"
      },
      "outputs": [],
      "source": [
        "# FORMA DE CARGAR LOS DATOS\n",
        "\n",
        "# Lee el archivo desde el directorio local\n",
        "#df_kaggle = pd.read_csv('salary_data.csv', sep=';')"
      ]
    },
    {
      "cell_type": "code",
      "execution_count": null,
      "metadata": {
        "id": "1ErHIC8TfjB0",
        "outputId": "b9b41ef8-ce8f-4d15-b0d0-a2faa3248e47"
      },
      "outputs": [
        {
          "name": "stdout",
          "output_type": "stream",
          "text": [
            "Requirement already satisfied: kaggle in f:\\periodo_2025_2\\inteligencia_artificial\\notbook\\.venv\\lib\\site-packages (1.7.4.5)\n",
            "Requirement already satisfied: bleach in f:\\periodo_2025_2\\inteligencia_artificial\\notbook\\.venv\\lib\\site-packages (from kaggle) (6.2.0)\n",
            "Requirement already satisfied: certifi>=14.05.14 in f:\\periodo_2025_2\\inteligencia_artificial\\notbook\\.venv\\lib\\site-packages (from kaggle) (2025.8.3)\n",
            "Requirement already satisfied: charset-normalizer in f:\\periodo_2025_2\\inteligencia_artificial\\notbook\\.venv\\lib\\site-packages (from kaggle) (3.4.3)\n",
            "Requirement already satisfied: idna in f:\\periodo_2025_2\\inteligencia_artificial\\notbook\\.venv\\lib\\site-packages (from kaggle) (3.10)\n",
            "Requirement already satisfied: protobuf in f:\\periodo_2025_2\\inteligencia_artificial\\notbook\\.venv\\lib\\site-packages (from kaggle) (6.32.1)\n",
            "Requirement already satisfied: python-dateutil>=2.5.3 in f:\\periodo_2025_2\\inteligencia_artificial\\notbook\\.venv\\lib\\site-packages (from kaggle) (2.9.0.post0)\n",
            "Requirement already satisfied: python-slugify in f:\\periodo_2025_2\\inteligencia_artificial\\notbook\\.venv\\lib\\site-packages (from kaggle) (8.0.4)\n",
            "Requirement already satisfied: requests in f:\\periodo_2025_2\\inteligencia_artificial\\notbook\\.venv\\lib\\site-packages (from kaggle) (2.32.5)\n",
            "Requirement already satisfied: setuptools>=21.0.0 in f:\\periodo_2025_2\\inteligencia_artificial\\notbook\\.venv\\lib\\site-packages (from kaggle) (80.9.0)\n",
            "Requirement already satisfied: six>=1.10 in f:\\periodo_2025_2\\inteligencia_artificial\\notbook\\.venv\\lib\\site-packages (from kaggle) (1.17.0)\n",
            "Requirement already satisfied: text-unidecode in f:\\periodo_2025_2\\inteligencia_artificial\\notbook\\.venv\\lib\\site-packages (from kaggle) (1.3)\n",
            "Requirement already satisfied: tqdm in f:\\periodo_2025_2\\inteligencia_artificial\\notbook\\.venv\\lib\\site-packages (from kaggle) (4.67.1)\n",
            "Requirement already satisfied: urllib3>=1.15.1 in f:\\periodo_2025_2\\inteligencia_artificial\\notbook\\.venv\\lib\\site-packages (from kaggle) (2.5.0)\n",
            "Requirement already satisfied: webencodings in f:\\periodo_2025_2\\inteligencia_artificial\\notbook\\.venv\\lib\\site-packages (from kaggle) (0.5.1)\n",
            "Requirement already satisfied: colorama in f:\\periodo_2025_2\\inteligencia_artificial\\notbook\\.venv\\lib\\site-packages (from tqdm->kaggle) (0.4.6)\n"
          ]
        },
        {
          "name": "stderr",
          "output_type": "stream",
          "text": [
            "\n",
            "[notice] A new release of pip is available: 24.2 -> 25.2\n",
            "[notice] To update, run: f:\\PERIODO_2025_2\\INTELIGENCIA_ARTIFICIAL\\notbook\\.venv\\Scripts\\python.exe -m pip install --upgrade pip\n"
          ]
        },
        {
          "name": "stdout",
          "output_type": "stream",
          "text": [
            "Dataset URL: https://www.kaggle.com/datasets/micheldc55/anual-salary-reports-survey\n",
            "License(s): unknown\n",
            "anual-salary-reports-survey.zip: Skipping, found more recently modified local copy (use --force to force download)\n"
          ]
        }
      ],
      "source": [
        "# FORMA DE LOS DATOS DESDE KAGGLE\n",
        "# 1. Instala la API de Kaggle\n",
        "!pip install kaggle\n",
        "\n",
        "# 2. Configura tus credenciales de Kaggle:\n",
        "# - Ve a tu cuenta de Kaggle -> Account -> API -> Create New API Token\n",
        "# - Descarga el archivo kaggle.json\n",
        "# - En Windows, colócalo en: C:\\Users\\<usuario>\\.kaggle\\kaggle.json\n",
        "\n",
        "# 3. Descarga el dataset\n",
        "!kaggle datasets download -d micheldc55/anual-salary-reports-survey\n",
        "\n",
        "# 4. Descomprime y lee el archivo\n",
        "import pandas as pd\n",
        "df_kaggle = pd.read_csv('salary_data.csv', sep=';')"
      ]
    },
    {
      "cell_type": "markdown",
      "metadata": {
        "id": "0rdJAnmIfjB0"
      },
      "source": [
        "# Introducción a la estadística en el marco de la Inteligencia Artificial y Ciencia de Datos\n",
        "\n",
        "En esta versión del curso veremos un repaso sobre qué es la estadística y qué función cumple en la ciencia de datos actual. Muchas veces escuchamos los términos de Machine Learning, Inteligencia Artificial o Deep Learning y olvidamos que por debajo todos estos conceptos tienen una implementación matemático-estadística. Pero la estadística no está solo presente en este aspecto, sino que también nos permite cuantificar la incertidumbre de nuestras predicciones y de nuestros experimentos.\n",
        "\n",
        "En este módulo utilizaremos librerías de visualización (matplotlib) a pesar de que aún no las hemos visto. Cuando vean las funciones de tipo \"plt.(...)\" sepas que son librerías de visualización, y que las veremos en detalle más adelante!\n",
        "\n",
        "Para realizar algunos análisis estadísticos utilizaremos el dataset de Kaggle de [Anual Salary reports survey](https://www.kaggle.com/datasets/micheldc55/anual-salary-reports-survey) o algunos datasets fabricados para este propósito."
      ]
    },
    {
      "cell_type": "markdown",
      "metadata": {
        "id": "yZa8gSF-fjB1"
      },
      "source": [
        "## Estadística Descriptiva\n",
        "\n",
        "\"Básicamente, se trata de una rama de la estadística que, como su nombre lo señala, se encarga de describir de forma cuantitativa la información. Es decir, su función consiste en recopilar, estructurar, tabular, organizar y procesar los datos para inferir comportamientos o características de un determinado grupo.\n",
        "\n",
        "La estadística descriptiva se utiliza con el objetivo de comprender ciertos fenómenos y predecir acontecimientos, a partir de la información que almacena, resume y organiza en tablas, gráficos u otros recursos.\" [referencia aqui](https://www.crehana.com/blog/data-analitica/que-es-estadistica-descriptiva/)\n",
        "\n",
        "En este curso estudiaremos los recursos básicos que nos provee esta ciencia para el análisis de datos, y cómo podemos utilizarla para definir experimentos, tamaños de muestra y medir la incertidumbre de un proceso."
      ]
    },
    {
      "cell_type": "markdown",
      "metadata": {
        "id": "cVfmNWXUfjB1"
      },
      "source": [
        "## Medidas de tendencia central y dispersión\n",
        "\n",
        "El objetivo de estas métricas será ofrecernos un \"resumen\" de cómo se comportan globalmente nuestros datos, ya se en términos de su medida \"central\" o de cómo se dispersan respecto de ella. Algunos casos típicos de medidas de tendencia o dispersión son:\n",
        "\n",
        "- Media (promedio)\n",
        "- Mediana\n",
        "- Moda\n",
        "- Desviación estándar (desv. típica)\n",
        "- Rango (dispersión)\n",
        "- Etc."
      ]
    },
    {
      "cell_type": "markdown",
      "metadata": {
        "id": "EJjsj_0tfjB1"
      },
      "source": [
        "### Media\n",
        "\n",
        "Comenzaremos por la más conocida por todos, la media o promedio. El nombre formal de esta medida es el de **media aritmética**, ya que existen otros tipos de medias basadas en otras operaciones. La media aritmética es simplemente la suma de todos los elementos de nuestra muestra, dividido entre la cantidad de elementos de la muestra.\n",
        "\n",
        "Por ejemplo, si tenemos una lista de 6 elementos [1, 2, 3, 4, 5, 6], el promedio de la lista será la suma total de la lista (21) partido entre la cantidad de elementos de la lista (6). Por lo tanto el promedio será de 3,5. Una implementación sencilla de Python para calcular el promedio de una lista es:\n",
        "\n",
        "```python\n",
        "def promedio_lista(lista):\n",
        "    return sum(lista) / len(lista)\n",
        "```"
      ]
    },
    {
      "cell_type": "code",
      "execution_count": null,
      "metadata": {
        "execution": {
          "iopub.execute_input": "2025-09-29T16:42:57.030589Z",
          "iopub.status.busy": "2025-09-29T16:42:57.030136Z",
          "iopub.status.idle": "2025-09-29T16:42:57.037761Z",
          "shell.execute_reply": "2025-09-29T16:42:57.036546Z",
          "shell.execute_reply.started": "2025-09-29T16:42:57.030552Z"
        },
        "trusted": true,
        "id": "vBljBiTpfjB1",
        "outputId": "5dafb047-7087-467d-f231-3b8d885a6cb5"
      },
      "outputs": [
        {
          "name": "stdout",
          "output_type": "stream",
          "text": [
            "El promedio de la lista: [1, 2, 3, 4, 5, 6] es: 3.5\n"
          ]
        }
      ],
      "source": [
        "def promedio_lista(lista):\n",
        "    return sum(lista) / len(lista)\n",
        "\n",
        "lista1 = [1, 2, 3, 4, 5, 6]\n",
        "media = promedio_lista(lista1)\n",
        "\n",
        "print(f'El promedio de la lista: {lista1} es: {media}')"
      ]
    },
    {
      "cell_type": "markdown",
      "metadata": {
        "id": "cE8Wx1dvfjB2"
      },
      "source": [
        "La fórmula matemática para la media aritmética se puede ver debajo, pero es una fórmula que escrita parece compleja, pero en la práctica se calcula de la forma que vimos antes.\n",
        "\n",
        "\n",
        "\n",
        "Existen otras implementaciones mejores y peores para calcular la media. Se incluyen debajo para su referencia, pero cualquiera de ellas cumplirá con el objetivo. Verán que algunas son más claras, otras menos, algunas son más rápidas, otras menos. La elección de un método u otro dependerá de lo que queramos hacer con nuestra solución.\n",
        "\n",
        "```python\n",
        "# Opcion con bucles (lenta)\n",
        "def promedio_lista_for(lista):\n",
        "    sum_total = 0\n",
        "    \n",
        "    for elem in lista:\n",
        "        sum_total += elem\n",
        "    \n",
        "    return sum_total / len(lista)\n",
        "    \n",
        "# Otra opcion con numpy:\n",
        "def promedio_lista_np(lista):\n",
        "    return np.mean(lista)\n",
        "```\n",
        "\n",
        "Y hay muchas más alternativas que no cubriremos. La idea es que vean que se pueden utilizar distintas implementaciones que llegan al mismo resultado."
      ]
    },
    {
      "cell_type": "code",
      "execution_count": null,
      "metadata": {
        "execution": {
          "iopub.execute_input": "2025-09-29T16:43:21.895399Z",
          "iopub.status.busy": "2025-09-29T16:43:21.895001Z",
          "iopub.status.idle": "2025-09-29T16:43:21.903307Z",
          "shell.execute_reply": "2025-09-29T16:43:21.901927Z",
          "shell.execute_reply.started": "2025-09-29T16:43:21.895366Z"
        },
        "trusted": true,
        "id": "SmUZxOlWfjB2",
        "outputId": "aba6e543-ba86-4b8c-afda-a9c2cbe2b1b2"
      },
      "outputs": [
        {
          "name": "stdout",
          "output_type": "stream",
          "text": [
            "3.5 3.5 3.5\n"
          ]
        }
      ],
      "source": [
        "def promedio_lista_for(lista):\n",
        "    sum_total = 0\n",
        "\n",
        "    for elem in lista:\n",
        "        sum_total += elem\n",
        "\n",
        "    return sum_total / len(lista)\n",
        "\n",
        "def promedio_lista_np(lista):\n",
        "    return np.mean(lista)\n",
        "\n",
        "print(promedio_lista_for(lista1), promedio_lista_np(lista1), promedio_lista(lista1))"
      ]
    },
    {
      "cell_type": "code",
      "execution_count": null,
      "metadata": {
        "execution": {
          "iopub.execute_input": "2025-09-29T16:44:50.380832Z",
          "iopub.status.busy": "2025-09-29T16:44:50.379532Z",
          "iopub.status.idle": "2025-09-29T16:44:50.391569Z",
          "shell.execute_reply": "2025-09-29T16:44:50.390346Z",
          "shell.execute_reply.started": "2025-09-29T16:44:50.380785Z"
        },
        "trusted": true,
        "id": "gT5SFuAyfjB2",
        "outputId": "94fbcad4-c323-4dc3-aaeb-6506dd0a0b79"
      },
      "outputs": [
        {
          "data": {
            "text/plain": [
              "np.float64(40412.51647145783)"
            ]
          },
          "execution_count": 11,
          "metadata": {},
          "output_type": "execute_result"
        }
      ],
      "source": [
        "df_kaggle['income'].mean()"
      ]
    },
    {
      "cell_type": "code",
      "execution_count": null,
      "metadata": {
        "execution": {
          "iopub.execute_input": "2025-09-29T16:44:57.762154Z",
          "iopub.status.busy": "2025-09-29T16:44:57.761730Z",
          "iopub.status.idle": "2025-09-29T16:44:57.777252Z",
          "shell.execute_reply": "2025-09-29T16:44:57.775878Z",
          "shell.execute_reply.started": "2025-09-29T16:44:57.762121Z"
        },
        "trusted": true,
        "id": "y25Bh4TxfjB3",
        "outputId": "7409ee67-0524-4d08-a49b-658b95dbbaa2"
      },
      "outputs": [
        {
          "data": {
            "text/plain": [
              "40412.51647145783"
            ]
          },
          "execution_count": 13,
          "metadata": {},
          "output_type": "execute_result"
        }
      ],
      "source": [
        "promedio_lista(df_kaggle['income'])"
      ]
    },
    {
      "cell_type": "markdown",
      "metadata": {
        "id": "GL-3X63zfjB3"
      },
      "source": [
        "### Mediana\n",
        "\n",
        "La mediana es una medida alternativa de tendencia central de nuestros datos. Básicamente la mediana es el punto que divide nuestros datos en 2 partes iguales. En caso de que el número de datos sea par (no existe un valor que divide al dataset en 2), la mediana es la media de los dos puntos centrales. Por lo tanto, algo que debemos tener en cuenta es que para calcular la mediana siempre debemos ordenar los datos, para poder tomar el punto central. Lo veremos mejor con un ejemplo:\n",
        "\n",
        "Imaginemos que queremos calcular la media y la mediana de esta lista: [1, 2, 3, 4 ,5 ,6, 7, 8, 9, 100] --> ¿Cuál sería el valor \"central\" de esta lista intuitivamente?"
      ]
    },
    {
      "cell_type": "markdown",
      "metadata": {
        "id": "jUbUyRWyfjB3"
      },
      "source": [
        "#### Ventajas:\n",
        "\n",
        "El valor medio (promedio) de la lista es 14,5. Esto debería llamarnos la atención, ya que todos nuestros datos menos uno son menores a 10, pero en cambio nuestra media es mayor al 90% de nuestros valores. Esto es porque la media aritmética es un valor **sensible a valores atípicos (outliers)**. Generalmente cuando estimamos tendencia central, nos interesa entender el comportamiento general de los datos, y la media en este caso se está viendo afectada por uno solo.\n",
        "\n",
        "La mediana es **menos sensible a outliers**, porque solamente intentará separar las magnitudes de nuestros datos en dos conjuntos de igual tamaño. No está utilizando la magnitud de nuestros datos para encontrar el punto medio (aunque sí para calcular su valor, obviamente). Entonces en casos en los que vemos una **presencia muy fuerte de valores atípicos** lo recomendable es **utilizar la mediana** como medida central, en lugar de la media."
      ]
    },
    {
      "cell_type": "markdown",
      "metadata": {
        "id": "vkZr2xZAfjB3"
      },
      "source": [
        "#### Implementación:\n",
        "\n",
        "Veamos una implementación sencilla de la mediana y comparemos los resultados de nuestro test. Tener en cuenta que ahora debemos tener **dos situaciones**:\n",
        "\n",
        "1) La cantidad de elementos es impar y tomamos el punto medio de la lista.\n",
        "\n",
        "2) La cantidad de elementos es par y tomamos el promedio de los dos \"puntos medios\" de la lista."
      ]
    },
    {
      "cell_type": "code",
      "execution_count": null,
      "metadata": {
        "execution": {
          "iopub.execute_input": "2025-09-29T16:45:08.331865Z",
          "iopub.status.busy": "2025-09-29T16:45:08.331431Z",
          "iopub.status.idle": "2025-09-29T16:45:08.337291Z",
          "shell.execute_reply": "2025-09-29T16:45:08.336182Z",
          "shell.execute_reply.started": "2025-09-29T16:45:08.331831Z"
        },
        "trusted": true,
        "id": "6-hMo9lOfjB4"
      },
      "outputs": [],
      "source": [
        "lista2 = [1, 2, 3, 4 ,5 ,6, 7, 8, 9, 100]"
      ]
    },
    {
      "cell_type": "code",
      "execution_count": null,
      "metadata": {
        "execution": {
          "iopub.execute_input": "2025-09-29T16:45:11.923863Z",
          "iopub.status.busy": "2025-09-29T16:45:11.923283Z",
          "iopub.status.idle": "2025-09-29T16:45:11.930843Z",
          "shell.execute_reply": "2025-09-29T16:45:11.929548Z",
          "shell.execute_reply.started": "2025-09-29T16:45:11.923827Z"
        },
        "trusted": true,
        "id": "wO6k_JCffjB4"
      },
      "outputs": [],
      "source": [
        "def mediana_lista(lista):\n",
        "    lista_ordenada = lista.sort()\n",
        "    len_lista = len(lista)\n",
        "\n",
        "    ## Contemplamos los dos casos:\n",
        "    # Caso 1: La lista tiene un número impar de elementos\n",
        "    if len_lista % 2 != 0:\n",
        "        idx = int(len_lista / 2)\n",
        "        return lista[idx]\n",
        "\n",
        "    else:\n",
        "        idx = int(len_lista / 2)\n",
        "        return (lista[idx] + lista[idx - 1]) / 2"
      ]
    },
    {
      "cell_type": "code",
      "execution_count": null,
      "metadata": {
        "execution": {
          "iopub.execute_input": "2025-09-29T16:45:17.195120Z",
          "iopub.status.busy": "2025-09-29T16:45:17.194730Z",
          "iopub.status.idle": "2025-09-29T16:45:17.201562Z",
          "shell.execute_reply": "2025-09-29T16:45:17.200220Z",
          "shell.execute_reply.started": "2025-09-29T16:45:17.195087Z"
        },
        "trusted": true,
        "id": "ge7BD_-HfjB4",
        "outputId": "73b58802-8211-4d17-a747-0748f4dd4a1a"
      },
      "outputs": [
        {
          "name": "stdout",
          "output_type": "stream",
          "text": [
            "El promedio de la lista2 es: 14.5\n",
            "La mediana de la lista2 es: 5.5\n"
          ]
        }
      ],
      "source": [
        "print(f'El promedio de la lista2 es: {promedio_lista(lista2)}')\n",
        "print(f'La mediana de la lista2 es: {mediana_lista(lista2)}')"
      ]
    },
    {
      "cell_type": "markdown",
      "metadata": {
        "id": "msG1b7uafjB5"
      },
      "source": [
        "Ver que la mediana es bastante mejor en este caso, aunque tener en cuenta que es un caso extremo, en la práctica no suele ser tan fácil saber si debemos utilizar una u otra."
      ]
    },
    {
      "cell_type": "code",
      "execution_count": null,
      "metadata": {
        "execution": {
          "iopub.execute_input": "2025-09-29T16:45:37.757739Z",
          "iopub.status.busy": "2025-09-29T16:45:37.757290Z",
          "iopub.status.idle": "2025-09-29T16:45:37.772765Z",
          "shell.execute_reply": "2025-09-29T16:45:37.771238Z",
          "shell.execute_reply.started": "2025-09-29T16:45:37.757702Z"
        },
        "trusted": true,
        "id": "khG5HG8kfjB5",
        "outputId": "f255de7d-d7e6-47f6-8a33-49c256fc3359"
      },
      "outputs": [
        {
          "data": {
            "text/plain": [
              "40097.69766728312"
            ]
          },
          "execution_count": 17,
          "metadata": {},
          "output_type": "execute_result"
        }
      ],
      "source": [
        "mediana_lista(df_kaggle['income'].to_list())"
      ]
    },
    {
      "cell_type": "markdown",
      "metadata": {
        "id": "vJs5iKilfjB5"
      },
      "source": [
        "### Moda\n",
        "\n",
        "La moda es una medida que refleja cuál es el valor que más se repite dentro de un conjunto. Los conjuntos pueden tener una moda, o más de una, como en la imagen que se puede ver debajo. La imagen que se incluye muestra una distribución trimodal (que tiene 3 modas). Esto no es frecuente, pero debemos saber que existe.\n",
        "\n",
        "<img src=\"imagenes\\moda.png\" width=\"500px\" height=\"500px\">\n",
        "\n"
      ]
    },
    {
      "cell_type": "markdown",
      "metadata": {
        "id": "xcJnJzZhfjB6"
      },
      "source": [
        "#### Implementación\n",
        "\n",
        "De los últimos valores que vimos, la moda es seguramente el menos utilizado, así que simplemente veremos una implementación sencilla que solamente devuelve la menor moda (en caso de que haya múltiples) y pasaremos a la próxima medida:"
      ]
    },
    {
      "cell_type": "code",
      "execution_count": null,
      "metadata": {
        "execution": {
          "iopub.execute_input": "2025-09-29T16:45:51.889685Z",
          "iopub.status.busy": "2025-09-29T16:45:51.889251Z",
          "iopub.status.idle": "2025-09-29T16:45:51.899294Z",
          "shell.execute_reply": "2025-09-29T16:45:51.898094Z",
          "shell.execute_reply.started": "2025-09-29T16:45:51.889649Z"
        },
        "trusted": true,
        "id": "mwsZ2RHNfjB6",
        "outputId": "f94f5db5-9ad2-433a-ed36-a6251e7fa733"
      },
      "outputs": [
        {
          "data": {
            "text/plain": [
              "2"
            ]
          },
          "execution_count": 18,
          "metadata": {},
          "output_type": "execute_result"
        }
      ],
      "source": [
        "def moda_lista(lista):\n",
        "    valores_unicos = set(lista)\n",
        "    base = 0\n",
        "\n",
        "    for valor in valores_unicos:\n",
        "        apariciones = lista.count(valor)\n",
        "        if apariciones > base:\n",
        "            moda = valor\n",
        "            base = apariciones\n",
        "\n",
        "    return moda\n",
        "\n",
        "lista3 = [1, 1, 2, 2, 2, 2, 3, 3, 3, 7, 9, 9]\n",
        "moda_lista(lista3)"
      ]
    },
    {
      "cell_type": "markdown",
      "metadata": {
        "id": "ml-9d0SefjB6"
      },
      "source": [
        "### Desviación Estándar:\n",
        "\n",
        "\"En estadística, la **desviación típica** (...) es una medida que se utiliza para cuantificar la **variación o la dispersión** de un conjunto de **datos numéricos**. Una desviación estándar baja indica que la mayor parte de los datos de una muestra tienden a estar agrupados cerca de su media (también denominada el valor esperado), mientras que una desviación estándar alta indica que los datos se extienden sobre un rango de valores más amplio.\" [referencia aqui](https://es.wikipedia.org/wiki/Desviaci%C3%B3n_t%C3%ADpica)\n",
        "\n",
        "La desviación estándar es una medida muy útil para cuantificar que tan dispersos se encuentran los valores de un conjunto de datos respecto de la media de los datos. Lo que mide es la media de las distancias al cuadrado entre todos los puntos y la media de los datos. Luego se calcula la raíz cuadrada de ese resultado para obtener la desviación estándar. Esto puede verse en la imagen debajo. Básicamente llamaremos **varianza** al promedio de las diferencias con la media al cuadrado, y **desviación estándar** a la raíz cuadrada de la varianza.\n",
        "\n",
        "<img src=\"imagenes\\varianza.png\" width=\"500px\" height=\"500px\">\n",
        "\n",
        "\n",
        "\n",
        "\n",
        "Lo importante para nosotros es que cuanto mayor sea la desviación estándar, tendremos una distribución de datos más dispersa.\n",
        "\n",
        "#### Ventajas:\n",
        "\n",
        "La desviación estándar tiene una ventaja sustancial respecto a la varianza como medida de la dispersión, y es que está calculado en las mismas unidades que los datos. O sea que si calculamos la desviación estándar de un conjunto de precios en dólares, el resultado de la desviación estará en dólares. Esto es muy útil como herramienta para cuantificar, ya que estamos comparando \"manzanas con manzanas\".\n",
        "\n",
        "#### Implementación:\n",
        "\n",
        "Vamos a generar una implementación de la desviación estándar para nuestro caso. Primero algo que no hemos mencionado: En matemática podemos calcular una raíz elevando el número que queremos al inverso de la raíz que queremos calcular. Así que la raíz cuadrada de 4 es igual a 4 elevado a 1/2 (o 0.5). Esto es muy útil para calcular raíces, porque Python no tiene una función que lo haga directamente, como sí la hay en librerías como **math**. Además, esto nos permite calcular rápidamente cualquier raíz del ordern que queramos.\n",
        "\n",
        "```python\n",
        "# Podemos elevar un número en Python usando el símbolo **:\n",
        "# Por ejemplo 2 al cubo es 8. En python: 2 ** 3\n",
        "2 ** 3\n",
        "\n",
        "```"
      ]
    },
    {
      "cell_type": "code",
      "execution_count": null,
      "metadata": {
        "execution": {
          "iopub.execute_input": "2025-09-29T16:46:17.279850Z",
          "iopub.status.busy": "2025-09-29T16:46:17.279387Z",
          "iopub.status.idle": "2025-09-29T16:46:17.286894Z",
          "shell.execute_reply": "2025-09-29T16:46:17.285808Z",
          "shell.execute_reply.started": "2025-09-29T16:46:17.279814Z"
        },
        "trusted": true,
        "id": "QzYQ8kx2fjB7",
        "outputId": "788e610d-0042-43fd-e353-7b932d9c8b4c"
      },
      "outputs": [
        {
          "data": {
            "text/plain": [
              "8"
            ]
          },
          "execution_count": 19,
          "metadata": {},
          "output_type": "execute_result"
        }
      ],
      "source": [
        "2 ** 3"
      ]
    },
    {
      "cell_type": "code",
      "execution_count": null,
      "metadata": {
        "execution": {
          "iopub.execute_input": "2025-09-29T16:46:20.360160Z",
          "iopub.status.busy": "2025-09-29T16:46:20.359729Z",
          "iopub.status.idle": "2025-09-29T16:46:20.367194Z",
          "shell.execute_reply": "2025-09-29T16:46:20.365802Z",
          "shell.execute_reply.started": "2025-09-29T16:46:20.360125Z"
        },
        "trusted": true,
        "id": "KIwXRfjYfjB7"
      },
      "outputs": [],
      "source": [
        "def desviacion_est(datos):\n",
        "    media = np.mean(datos)\n",
        "    n = len(datos)\n",
        "\n",
        "    dist_cuadradas = 0\n",
        "\n",
        "    for dato in datos:\n",
        "        dist_cuadradas += (dato - media) ** 2\n",
        "\n",
        "    return (dist_cuadradas / (n - 1)) ** 0.5"
      ]
    },
    {
      "cell_type": "code",
      "execution_count": null,
      "metadata": {
        "execution": {
          "iopub.execute_input": "2025-09-29T16:46:24.867424Z",
          "iopub.status.busy": "2025-09-29T16:46:24.866985Z",
          "iopub.status.idle": "2025-09-29T16:46:24.875287Z",
          "shell.execute_reply": "2025-09-29T16:46:24.873923Z",
          "shell.execute_reply.started": "2025-09-29T16:46:24.867374Z"
        },
        "trusted": true,
        "id": "J-OHmn5sfjB7",
        "outputId": "cdfa7b74-00ef-4d9a-b007-9c51634b496a"
      },
      "outputs": [
        {
          "data": {
            "text/plain": [
              "np.float64(4.2067123233504535)"
            ]
          },
          "execution_count": 21,
          "metadata": {},
          "output_type": "execute_result"
        }
      ],
      "source": [
        "datos = [1, 2, 3, 5, 8, 9, 11, 12]\n",
        "\n",
        "desviacion_est(datos)"
      ]
    },
    {
      "cell_type": "markdown",
      "metadata": {
        "id": "yn29HeorfjB7"
      },
      "source": [
        "Verificamos el resultado utilizando una función de la librería \"statistics\" que calcula este valor... Funciona!!"
      ]
    },
    {
      "cell_type": "code",
      "execution_count": null,
      "metadata": {
        "execution": {
          "iopub.execute_input": "2025-09-29T16:46:45.422138Z",
          "iopub.status.busy": "2025-09-29T16:46:45.421001Z",
          "iopub.status.idle": "2025-09-29T16:46:45.430649Z",
          "shell.execute_reply": "2025-09-29T16:46:45.429590Z",
          "shell.execute_reply.started": "2025-09-29T16:46:45.422096Z"
        },
        "trusted": true,
        "id": "QBn5W2_ZfjB8",
        "outputId": "fd5531e2-6644-4c18-d1e1-cb7ac2e47ed2"
      },
      "outputs": [
        {
          "data": {
            "text/plain": [
              "4.2067123233504535"
            ]
          },
          "execution_count": 22,
          "metadata": {},
          "output_type": "execute_result"
        }
      ],
      "source": [
        "import statistics\n",
        "\n",
        "statistics.stdev(datos)"
      ]
    },
    {
      "cell_type": "markdown",
      "metadata": {
        "id": "x1nI8eZ_fjB8"
      },
      "source": [
        "### Rango\n",
        "\n",
        "Una medida bastante rápida de la dispersión es el rango de los datos. Con esta métrica calculamos la distancia entre el valor máximo y el mínimo de la muestra de datos que estamos utilizando. Es una medida bastante intuitiva de la dispersión (¿cuanto cubren mis datos?)."
      ]
    },
    {
      "cell_type": "markdown",
      "metadata": {
        "id": "LnQ5f9_pfjB8"
      },
      "source": [
        "#### Ventajas:\n",
        "\n",
        "- Intuitiva\n",
        "- Rápida de calcular\n",
        "\n",
        "El problema es que no es una métrica muy informativa respecto de la dispersión cerca de donde están los valores más frecuentes de nuestra distribución de datos. Otro problema es que es extremadamente sensible a outliers."
      ]
    },
    {
      "cell_type": "markdown",
      "metadata": {
        "id": "7yWNQH3yfjB8"
      },
      "source": [
        "#### Implementación\n",
        "\n",
        "```python\n",
        "def rango_lista(datos):\n",
        "    return (max(datos) - min(datos))\n",
        "```"
      ]
    },
    {
      "cell_type": "code",
      "execution_count": null,
      "metadata": {
        "execution": {
          "iopub.execute_input": "2025-09-29T16:46:55.137147Z",
          "iopub.status.busy": "2025-09-29T16:46:55.136752Z",
          "iopub.status.idle": "2025-09-29T16:46:55.145743Z",
          "shell.execute_reply": "2025-09-29T16:46:55.144280Z",
          "shell.execute_reply.started": "2025-09-29T16:46:55.137114Z"
        },
        "trusted": true,
        "id": "Ojji6t_-fjB8",
        "outputId": "4558f3bc-fdb2-4268-8d58-317fd1a24057"
      },
      "outputs": [
        {
          "data": {
            "text/plain": [
              "105"
            ]
          },
          "execution_count": 23,
          "metadata": {},
          "output_type": "execute_result"
        }
      ],
      "source": [
        "def rango_lista(datos):\n",
        "    return (max(datos) - min(datos))\n",
        "\n",
        "lista4 = [1, 5, 8, 9, -1, 104, 11]\n",
        "rango_lista(lista4)"
      ]
    },
    {
      "cell_type": "markdown",
      "metadata": {
        "id": "pl1EQZbpfjB9"
      },
      "source": [
        "Vamos a generar un conjunto de 50 datos aleatorios con distribución normal utilizando la librería NumPy. Qué rango tienen nuestros datos?"
      ]
    },
    {
      "cell_type": "code",
      "execution_count": null,
      "metadata": {
        "execution": {
          "iopub.execute_input": "2025-09-29T16:46:58.503390Z",
          "iopub.status.busy": "2025-09-29T16:46:58.503009Z",
          "iopub.status.idle": "2025-09-29T16:46:58.510841Z",
          "shell.execute_reply": "2025-09-29T16:46:58.509634Z",
          "shell.execute_reply.started": "2025-09-29T16:46:58.503358Z"
        },
        "trusted": true,
        "id": "c1IulwFTfjCD",
        "outputId": "def64468-5c9d-40d4-9914-819bd614b556"
      },
      "outputs": [
        {
          "name": "stdout",
          "output_type": "stream",
          "text": [
            "[ 0.33203194  0.09709402 -0.26371369 -1.38887511  0.83643128  0.96334412\n",
            "  0.32137312  1.63982765  1.26759009  1.44044843 -1.82744907 -0.14785864\n",
            " -0.3620456   0.20198088 -0.59076383 -0.51978161  1.33532385  0.70314482\n",
            "  0.55337889 -0.78838456  1.1298162  -0.56722635  2.12928299 -1.66485226\n",
            " -0.21030101 -0.29549182 -0.91097701 -0.6864567  -0.81319968 -0.55362964\n",
            " -0.42390503 -0.62321505 -0.53133622 -0.53368858  0.21698106  1.04490525\n",
            " -0.12570839  1.17784624  0.04399532  0.8309774   0.34908895  1.12619008\n",
            "  0.86124944 -0.29046836  1.26857252 -0.280209    1.42740213 -1.21353451\n",
            " -0.4870425   0.62919871]\n",
            "El rango de datos_rand es: 3.9567320580294374\n"
          ]
        }
      ],
      "source": [
        "datos_rand = np.random.randn(50)\n",
        "print(datos_rand)\n",
        "print(f'El rango de datos_rand es: {rango_lista(datos_rand)}')"
      ]
    },
    {
      "cell_type": "markdown",
      "metadata": {
        "id": "Dy4nj3s_fjCD"
      },
      "source": [
        "### Sesgo y Kurtosis\n",
        "\n",
        "El sesgo de una distribución mide la **asimetría de la distribución despecto de la media**. Esto es muy frecuente en conjuntos de datos o distribuciones que están acotados por uno de los lados. Uno muy frecuente es el de **ingresos**. Si miramos una distribución de ingresos, es decir cual es la frecuencia con la que las personas tienen un sueldo de X en una población, veremos algo interesante. Para calcular el sesgo se suele utilizar el [coeficiente de Fisher o el de Pearson](https://www.probabilidadyestadistica.net/asimetria-y-curtosis/)\n",
        "\n",
        "La distribución de ingresos está acotada, ya que nadie puede tener ingresos negativos, pero no hay un límite superior para el valor de los ingresos, y suelen aparecer personas con ingresos \"outliers\". Esto por convención se conoce como asimetría positiva (ver imagen).\n",
        "\n",
        "El sesgo es algo de lo que no se habla mucho en los modelos de Machine Learning, pero es algo que debemos contemplar. **Muchas de las implementaciones de ML toman como hipótesis que los datos tienen distribución normal**, y la distribución normal por definición tiene sesgo cero, entonces si alimentamos modelos de ML con distribuciones muy sesgadas, no funcionarán bien.\n",
        "\n",
        "Existen técnicas para la corrección de sesgo como los métodos logarítmicos y exponenciales. [Aqui tienen un excelente artículo si les interesa profundizar en el tema](https://towardsdatascience.com/how-to-differentiate-between-scaling-normalization-and-log-transformations-69873d365a94).\n",
        "\n",
        "<img src=\"imagenes\\imag1.png\" width=\"800px\" height=\"300px\">\n",
        "\n",
        "La **Kurtosis** es una medida de qué tan acumulados están nuestros datos alrededor de la media. La kurosis también se conoce como apuntamiento y cuanto mayor sea su valor, diremos que los valores estarán más concentrados alrededor de la media. La kurtosis de la distribución normal tiene un valor de **3**, y por eso verán que se suele restar 3 de las medidas de kurtosis (como si estuvieramos midiendo el \"exceso\" de kurtosis respecto de la distribución normal). [Aquí pueden ver cómo se calcula la kurtosis](https://www.probabilidadyestadistica.net/asimetria-y-curtosis/).\n",
        "\n",
        "<img src=\"imagenes\\imag2.png\" width=\"800px\" height=\"300px\">"
      ]
    },
    {
      "cell_type": "markdown",
      "metadata": {
        "id": "4_DmgCXvfjCD"
      },
      "source": [
        "# Estadística Inferencial\n",
        "\n",
        "\"La estadística inferencial es una parte de la estadística que comprende los métodos y procedimientos que por medio de la inducción determina propiedades de una población estadística, a partir de una parte de esta. Su objetivo es obtener conclusiones útiles para hacer razonamientos deductivos sobre una totalidad, basándose en la información numérica dada por la muestra.\n",
        "\n",
        "Se dedica a la generación de los modelos y predicciones asociadas a los fenómenos en cuestión teniendo en cuenta la aleatoriedad de las observaciones. Se usa para modelar patrones en los datos y extraer inferencias acerca de la población bajo estudio.\" [definición completa aquí](https://es.wikipedia.org/wiki/Estad%C3%ADstica_inferencial)\n",
        "\n",
        "Como su nombre lo dice, la estadística inferencial nos permite aprender propiedades de la población que queremos estudiar, sin tener que medir cada uno de los elementos de la población. Imaginemos que queremos saber cual es la altura media de los hombres de entre 18-30 años, ¿es razonable esperar que se tomen medidas de **todos los hombres de entre 18-30 años** en el mundo? Parece un poco disparatado.\n",
        "\n",
        "La inferencia estadística nos permite obtener pistas o aproximaciones de este comportamiento a partir del comportamiento de un subconjunto de ésta. Por ejemplo, en el caso de la altura media, podríamos tomar la altura de 200 hombres de entre 18-30 en cada uno de los 5 continentes, e intentar \"estimar\" cual sería la altura promedio de todos los hombres de este grupo, a partir de esa medida en un subgrupo del total."
      ]
    },
    {
      "cell_type": "markdown",
      "metadata": {
        "id": "hHxvIOvOfjCD"
      },
      "source": [
        "### Distribución normal y el Teorema del límite central\n",
        "\n",
        "Un tema muy frecuente cuando se habla de estadística es la distribución Gaussiana o normal. Esta distribución tiene una forma de campana en la que encontramos la mayoría de los valores de la distribución concentrados alrededor de la media. Es una función **simétrica** y **unimodal**. Muchas veces escucharemos que muchas cosas tienen una distribución que se puede modelar como una distribución normal, lo cual es **falso** en su mayoría. Esta confusión surge de un resultado muy importante en la estadística, conocido como el **Teorema del Límite Central**.\n",
        "\n",
        "<img src=\"imagenes\\imag3.PNG\" width=\"800px\" height=\"350px\">\n",
        "\n",
        "La distribución normal se caracteriza por estar centrada en la **media**. Existe una distribución normal \"unitaria\" o \"estándar\" que tiene media 0 y desviación estándar 1, que es la distribución básica de la estadística inferencial. Si observamos, la distribución normal tiene una propiedad interesante, y es que la media, mediana y la moda coinciden."
      ]
    },
    {
      "cell_type": "markdown",
      "metadata": {
        "id": "yN2JhhzAfjCE"
      },
      "source": [
        "#### Teorema del Límite Central\n",
        "\n",
        "Y si no es cierto que muchas cosas tienen distribución normal? Para qué la utilizamos? **La distribución normal es la base de la estadística inferencial!!** Simplemente que no lo es porque la mayoría de las cosas se comporten como una distribución normal, sino porque se puede demostrar que la distribución de las medias de todas las distribuciones tienen a la distribución normal si la muestra es suficientemente grande!\n",
        "\n",
        "Este resultado es muy potente y es la base de los tests de hipótesis que utilizaremos para determinar el comportamiento de nuestra población a partir de la información que obtenemos de una o varias muestras.\n",
        "\n",
        "Debajo utilizaremos la función np.random.randn() para generar una muestra de 5000 puntos obtenidos de una distribución normal estándar (media cero y desviación estándar 1)."
      ]
    },
    {
      "cell_type": "code",
      "execution_count": null,
      "metadata": {
        "execution": {
          "iopub.execute_input": "2022-09-28T16:04:05.218516Z",
          "iopub.status.busy": "2022-09-28T16:04:05.217895Z",
          "iopub.status.idle": "2022-09-28T16:04:05.491362Z",
          "shell.execute_reply": "2022-09-28T16:04:05.490232Z",
          "shell.execute_reply.started": "2022-09-28T16:04:05.218479Z"
        },
        "trusted": true,
        "id": "fmhISwRufjCE",
        "outputId": "73d6a252-4536-421c-fca1-d98d999496ba"
      },
      "outputs": [
        {
          "data": {
            "text/plain": [
              "(array([1.400e+01, 6.000e+01, 1.460e+02, 4.460e+02, 7.610e+02, 1.008e+03,\n",
              "        1.026e+03, 8.050e+02, 4.430e+02, 2.120e+02, 5.600e+01, 2.000e+01,\n",
              "        2.000e+00, 1.000e+00]),\n",
              " array([-3.2146555 , -2.68387168, -2.15308787, -1.62230406, -1.09152025,\n",
              "        -0.56073644, -0.02995262,  0.50083119,  1.031615  ,  1.56239881,\n",
              "         2.09318263,  2.62396644,  3.15475025,  3.68553406,  4.21631787]),\n",
              " <BarContainer object of 14 artists>)"
            ]
          },
          "execution_count": 25,
          "metadata": {},
          "output_type": "execute_result"
        },
        {
          "data": {
            "image/png": "[encoded data removed]",
            "text/plain": [
              "<Figure size 640x480 with 1 Axes>"
            ]
          },
          "metadata": {},
          "output_type": "display_data"
        }
      ],
      "source": [
        "np.random.seed(4)\n",
        "\n",
        "y = np.random.randn(5000)\n",
        "plt.hist(y, bins=14)"
      ]
    },
    {
      "cell_type": "markdown",
      "metadata": {
        "id": "ERZZO657fjCE"
      },
      "source": [
        "### Otras distribuciones\n",
        "\n",
        "También existen otras distribuciones que nos permiten modelar fenómenos utilizando otras expresiones matemáticas. Veremos que hay dos tipos de distribuciones: **continuas**, que responden a una variable numérica que puede tomar cualquier valor, o **discretas**, que responden a una variable que solo puede tomar un número finito de valores posibles.\n",
        "\n",
        "No veremos estas distribuciones en detalle, pero se incluyen debajo algunas de las distribuciones más utilizadas y una breve explicación de para qué se utilizan o qué intentan medir, aunque pueden leer más sobre esto [aquí](https://keepcoding.io/blog/tipos-distribuciones-estadistica/):\n",
        "\n",
        "- Continuas:\n",
        "    - Uniforme: Mide la probabilidad de obtener un resultado, cuando todos los resultados tienen la misma probabilidad de ocurrir.\n",
        "    - Chi-cuadrado: Es una curva con k grados de libertad que a medida que k crece se \"degrada\" a la distribución normal. Se utiliza mucho en tests estadísticos para medir la bondad de ajuste de una distribución a la estimada y para medir si dos variables aleatorias son independientes.\n",
        "    - Exponencial: (ver Poisson) Modela el tiempo que transcurrirá entre dos eventos que tienen distribución de Poisson.\n",
        "    - Student: La distribución t de Student es una distribución de probabilidad que surge del problema de estimar la media de una población que tiene distribución normal cuando el tamaño de la muestra es pequeño y la desviación estándar poblacional es desconocida.\n",
        "    \n",
        "- Discretas:\n",
        "    - Bernoulli: Dada la probabilidad de que suceda un evento, modela la frecuencia con la que ocurrirá cada uno de los eventos.\n",
        "    - Binomial: Generalización de Bernoulli. Modela N eventos independientes, cada uno con una probabilidad p de suceder\n",
        "    - Poisson: Esta distribución expresa la probabilidad de que un número de eventos dado (con distribuciones binomiales) ocurra en un intervalo de tiempo (o espacio) fijo si los eventos ocurren con una frecuencia constante y son independientes (no dependen de cuándo ocurrió el último evento)."
      ]
    },
    {
      "cell_type": "markdown",
      "metadata": {
        "id": "TqhF083YfjCF"
      },
      "source": [
        "## Correlación\n",
        "\n",
        "La correlación es una medida entre dos variables que cuantifica **cómo se comporta una cuando la otra cambia**. Existen muchas maneras de medir correlación, y sobre todo debemos tener mucho cuidado para saber qué tipo de correlación estamos midiendo, ya que muchas veces obtendremos un resultado que no tiene un nivel de correlación bueno, pero existe dependencia entre las variables. Esto es muy común cuando existe dependencia no lineal entre las variables!\n",
        "\n",
        "Todas las medidas de correlación tienen el mismo principio de funcionamiento:\n",
        "- Correlación positiva implica que cuando una variable crece, la otra también lo hace.\n",
        "- Correlación negativa implica que cuando una variable creca, la otra disminuye.\n",
        "- Correlación neutra implica que no se observa una relación de dependencia entre el comportamiento de ambas variables (**importante:** no se observa dependencia basado en el tipo de correlación que estamos midiendo!)\n",
        "\n",
        "![correlation.PNG](attachment:01dbf51b-7eb3-4451-b504-eeb8aebcf7c3.PNG)\n",
        "\n",
        "Podemos calcular la correlación entre dos o más variables utilizando NumPy con la función corrcoef, o utilizando el método .corr() que provee Pandas. Como ya tenemos cargado el dataframe de pandas con los datos de salarios anuales, utilizaremos éste último para medir la correlación entre la edad de las personas y sus ingresos anuales. Una observación importante es que todas las variables correlan al 100% con ellas mismas, por lo que solo debemos mirar los cruces entre ambas variables."
      ]
    },
    {
      "cell_type": "code",
      "execution_count": null,
      "metadata": {
        "execution": {
          "iopub.execute_input": "2022-09-28T16:04:05.494466Z",
          "iopub.status.busy": "2022-09-28T16:04:05.493204Z",
          "iopub.status.idle": "2022-09-28T16:04:05.518016Z",
          "shell.execute_reply": "2022-09-28T16:04:05.516891Z",
          "shell.execute_reply.started": "2022-09-28T16:04:05.494417Z"
        },
        "trusted": true,
        "id": "kEYvjbyRfjCF",
        "outputId": "8aae7b57-27ff-4af7-e8d8-de965b7d5cf1"
      },
      "outputs": [
        {
          "data": {
            "text/html": [
              "<div>\n",
              "<style scoped>\n",
              "    .dataframe tbody tr th:only-of-type {\n",
              "        vertical-align: middle;\n",
              "    }\n",
              "\n",
              "    .dataframe tbody tr th {\n",
              "        vertical-align: top;\n",
              "    }\n",
              "\n",
              "    .dataframe thead th {\n",
              "        text-align: right;\n",
              "    }\n",
              "</style>\n",
              "<table border=\"1\" class=\"dataframe\">\n",
              "  <thead>\n",
              "    <tr style=\"text-align: right;\">\n",
              "      <th></th>\n",
              "      <th>income</th>\n",
              "      <th>age</th>\n",
              "    </tr>\n",
              "  </thead>\n",
              "  <tbody>\n",
              "    <tr>\n",
              "      <th>income</th>\n",
              "      <td>1.000000</td>\n",
              "      <td>0.464433</td>\n",
              "    </tr>\n",
              "    <tr>\n",
              "      <th>age</th>\n",
              "      <td>0.464433</td>\n",
              "      <td>1.000000</td>\n",
              "    </tr>\n",
              "  </tbody>\n",
              "</table>\n",
              "</div>"
            ],
            "text/plain": [
              "          income       age\n",
              "income  1.000000  0.464433\n",
              "age     0.464433  1.000000"
            ]
          },
          "execution_count": 26,
          "metadata": {},
          "output_type": "execute_result"
        }
      ],
      "source": [
        "df_kaggle[['income', 'age']].corr()"
      ]
    },
    {
      "cell_type": "markdown",
      "metadata": {
        "id": "4xR9S-09fjCF"
      },
      "source": [
        "La correlación entre income y age es baja positiva, lo que quiere decir que cuando la edad aumenta se observa una tendencia al aumento de los ingresos también."
      ]
    },
    {
      "cell_type": "markdown",
      "metadata": {
        "id": "h1L5kMw4fjCF"
      },
      "source": [
        "## Covarianza\n",
        "\n",
        "La covarianza es una medida que indica la fuerza de la correlación entre dos variables respecto de su media. Podríamos decir que la correlación es una medida adimensional (o escalada) de la covarianza. Dicho de otra forma, la covarianza es sensible a la escala en la que se calcula, si las unidades son más grandes, los valores de covarianza serán más grandes, mientras que la correlación se mantendrá igual. Un valor de covarianza de cero indica que ambas variables son completamente independientes.\n",
        "\n",
        "El coeficiente de correlación más utilizado en la práctica es el de Pearson, que calcula la correlación como la covarianza entre dos variables dividido entre el producto de las desviaciones estándar de cada variable.\n",
        "\n",
        "Podemos calcular la covarianza entre dos variables usando la función np.cov(). Cuidado! Si utilizamos columnas de DataFrames, debemos trasponer el resultado para obtener la matriz de covarianza!"
      ]
    },
    {
      "cell_type": "code",
      "execution_count": null,
      "metadata": {
        "execution": {
          "iopub.execute_input": "2022-09-28T16:06:42.380831Z",
          "iopub.status.busy": "2022-09-28T16:06:42.380429Z",
          "iopub.status.idle": "2022-09-28T16:06:42.389368Z",
          "shell.execute_reply": "2022-09-28T16:06:42.388578Z",
          "shell.execute_reply.started": "2022-09-28T16:06:42.380799Z"
        },
        "trusted": true,
        "id": "ipajWvZ7fjCG",
        "outputId": "9a318f00-487c-49a4-e870-e2d354453a6e"
      },
      "outputs": [
        {
          "data": {
            "text/plain": [
              "array([[8.65196085e+04, 4.50000000e+01],\n",
              "       [8.30858650e+04, 3.00000000e+01],\n",
              "       [8.26062150e+04, 2.20000000e+01],\n",
              "       ...,\n",
              "       [1.50000000e+04, 3.20000000e+01],\n",
              "       [1.50000000e+04, 2.10000000e+01],\n",
              "       [1.50000000e+04, 2.70000000e+01]], shape=(100000, 2))"
            ]
          },
          "execution_count": 27,
          "metadata": {},
          "output_type": "execute_result"
        }
      ],
      "source": [
        "df_kaggle[['income','age']].values"
      ]
    },
    {
      "cell_type": "code",
      "execution_count": null,
      "metadata": {
        "execution": {
          "iopub.execute_input": "2022-09-28T16:05:08.580319Z",
          "iopub.status.busy": "2022-09-28T16:05:08.578982Z",
          "iopub.status.idle": "2022-09-28T16:05:08.59243Z",
          "shell.execute_reply": "2022-09-28T16:05:08.591432Z",
          "shell.execute_reply.started": "2022-09-28T16:05:08.580265Z"
        },
        "trusted": true,
        "id": "LYPRPTsxfjCG",
        "outputId": "46f8ee12-1254-489f-86aa-61ea02abc0b0"
      },
      "outputs": [
        {
          "data": {
            "text/plain": [
              "array([[1.17306078e+08, 4.72605802e+04],\n",
              "       [4.72605802e+04, 8.82736017e+01]])"
            ]
          },
          "execution_count": 28,
          "metadata": {},
          "output_type": "execute_result"
        }
      ],
      "source": [
        "np.cov(df_kaggle[['income','age']].values.T)"
      ]
    },
    {
      "cell_type": "markdown",
      "metadata": {
        "id": "ZdFExNH0fjCG"
      },
      "source": [
        "## Test de Hipótesis\n",
        "\n",
        "En estadística, las pruebas de hipótesis calculan la probabilidad de que un evento suceda, asumiendo que se cumple una cierta hipótesis de partida, llamada **H0**. Cuando hacemos un test de hipótesis generalmente queremos descartar la hipótesis H0 que asumimos, y por lo tanto nos interesa que esa probabilidad sea muy pequeña. Esta probabilidad que calculamos en estadística se conoce como el **p-valor** (p-value en inglés) y en general se busca que su valor sea menor que un valor arbitrario que se define como \"poco probable\", generalmente 5% o 0.05, pero podemos elegir el que consideremos mejor.\n",
        "\n",
        "Si la probabilidad de que algo suceda dado que la Hipótesis H0 se cumple es muy muy baja, entonces podemos asumir que es poco probable que la hipótesis H0 se cumpla, y por lo tanto la descartamos. Si esto no es así, no podemos asegurar nada sobre la hipótesis H0.\n",
        "\n",
        "Algunos casos de uso habituales de los test de hipótesis en ciencia de datos son:\n",
        "- Pruebas de normalidad: queremos estimar si nuestros datos provienen de una distribución normal\n",
        "- Pruebas de origan: queremos determinar si dos muestras provienen de la misma distribución\n",
        "- Pruebas de mejora: queremos determinar si las nuevas mediciones realizadas después de un cambio son significativamente mejores que las anteriores (vale la pena cambiar la metodología?)."
      ]
    },
    {
      "cell_type": "markdown",
      "metadata": {
        "id": "8ZsJZ3oDfjCG"
      },
      "source": [
        "#### Pruebas de normalidad\n",
        "\n",
        "Una aplicación buena de un test de Hipótesis son las llamadas pruebas de normalidad. Queremos saber si nuestros datos provienen de una distribución normal, o si debemos aplicar algún tipo de normalización (como veremos más adelante). Para ello podemos utilizar alguno de los tests de normalidad más frecuentes:\n",
        "\n",
        "- Shapiro-Wilk\n",
        "- Kolmogorov-Smirnov\n",
        "- D'Agostino\n",
        "\n",
        "La hipótesis nula (H0) para todos estos tests es que la función tiene distribuión normal, por lo tanto si realizamos el test y obtenemos un p-valor menor a 0.05, podemos decir que los datos no provienen de la distribución normal. Para ponerlo en práctica generaremos dos muestras: X1 será una nube de puntos aleatorios, X2 será una distribución normal.\n",
        "\n",
        "Para importar el test de Shapiro-Wilk podemos utilizar la librería scipy.stats y utilizar el método .shapiro(). Para generar los puntos utilizaremos np.random.random() para generar números aleatorios, y np.random.randn() para generar números de una distribución normal estándar."
      ]
    },
    {
      "cell_type": "code",
      "execution_count": null,
      "metadata": {
        "execution": {
          "iopub.execute_input": "2022-09-28T16:29:43.99434Z",
          "iopub.status.busy": "2022-09-28T16:29:43.993851Z",
          "iopub.status.idle": "2022-09-28T16:29:44.959105Z",
          "shell.execute_reply": "2022-09-28T16:29:44.957753Z",
          "shell.execute_reply.started": "2022-09-28T16:29:43.994298Z"
        },
        "trusted": true,
        "id": "c7nzQcz-fjCH"
      },
      "outputs": [],
      "source": [
        "X1 = np.random.random(100)\n",
        "X2 = np.random.randn(100)\n",
        "\n",
        "shap_x1 = stats.shapiro(X1)\n",
        "shap_x2 = stats.shapiro(X2)"
      ]
    },
    {
      "cell_type": "code",
      "execution_count": null,
      "metadata": {
        "execution": {
          "iopub.execute_input": "2022-09-28T16:30:00.458847Z",
          "iopub.status.busy": "2022-09-28T16:30:00.458414Z",
          "iopub.status.idle": "2022-09-28T16:30:00.464511Z",
          "shell.execute_reply": "2022-09-28T16:30:00.463263Z",
          "shell.execute_reply.started": "2022-09-28T16:30:00.4588Z"
        },
        "trusted": true,
        "id": "CAh5qvT1fjCH",
        "outputId": "c4b30b17-ae70-4c39-c9aa-8eebe1a45297"
      },
      "outputs": [
        {
          "name": "stdout",
          "output_type": "stream",
          "text": [
            "ShapiroResult(statistic=np.float64(0.9521330473092638), pvalue=np.float64(0.0011496052537900638))\n",
            "ShapiroResult(statistic=np.float64(0.9845663191382376), pvalue=np.float64(0.2954025101733949))\n"
          ]
        }
      ],
      "source": [
        "print(shap_x1)\n",
        "print(shap_x2)"
      ]
    },
    {
      "cell_type": "markdown",
      "metadata": {
        "id": "ogUGMstsfjCH"
      },
      "source": [
        "Vemos que el p-valor para la distribución 1 (aleatoria) es muy pequeño, esto nos permite descartar la hipótesis de que los datos vienen de una distribución normal. No podemos asegurar nada de la segunda distribución (a pesar de que sabemos que proviene de una distribución normal)."
      ]
    },
    {
      "cell_type": "markdown",
      "metadata": {
        "id": "Z4tVrDdWfjCI"
      },
      "source": [
        "## Pruebas de Independencia\n",
        "\n",
        "Otra aplicación interesante es la de las pruebas de independencia. Esto es si existe alguna asociación entre dos variables. Si las variables fueran categóricas, por ejemplo, positivo/negativo vs franja etárea, podríamos ver si existe alguna relación de dependencia entre el diagnóstico (positivo/negativo) y la edad (joven/adulto/adulto mayor).\n",
        "\n",
        "Para esto se utilizan tablas de conteos con cada una de las ocurrencias para cada una de las combinaciones de categorías. Supongamos que tenemos la siguiente tabla:\n",
        "\n",
        "|          | Joven | Adulto | Adulto Mayor |\n",
        "|----------|-------|--------|--------------|\n",
        "| Positivo | 10    | 20     | 30           |\n",
        "| Negativo | 6     | 9      | 17           |"
      ]
    },
    {
      "cell_type": "code",
      "execution_count": null,
      "metadata": {
        "execution": {
          "iopub.execute_input": "2022-09-28T16:42:22.869984Z",
          "iopub.status.busy": "2022-09-28T16:42:22.868881Z",
          "iopub.status.idle": "2022-09-28T16:42:22.881703Z",
          "shell.execute_reply": "2022-09-28T16:42:22.880239Z",
          "shell.execute_reply.started": "2022-09-28T16:42:22.869931Z"
        },
        "trusted": true,
        "id": "38l2PX8HfjCI",
        "outputId": "0b2b7eef-cbfa-4c06-defc-393ca741f424"
      },
      "outputs": [
        {
          "name": "stdout",
          "output_type": "stream",
          "text": [
            "grados=2\n",
            "[[10.43478261 18.91304348 30.65217391]\n",
            " [ 5.56521739 10.08695652 16.34782609]]\n",
            "Probabilidad=0.950, Valor Critico=5.991, Estadistico=0.272\n",
            "Significancia=0.050, p=0.873\n",
            "Independent (No rechaza H0)\n"
          ]
        }
      ],
      "source": [
        "tabla = [[10, 20, 30],[6, 9, 17]]\n",
        "stat, p, grados, t_esperada = stats.chi2_contingency(tabla)\n",
        "print('grados=%d' % grados)\n",
        "print(t_esperada)\n",
        "\n",
        "# Prueba Chi-2\n",
        "prob = 0.95\n",
        "critico = stats.chi2.ppf(prob, grados)\n",
        "print('Probabilidad=%.3f, Valor Critico=%.3f, Estadistico=%.3f' % (prob, critico, stat))\n",
        "# interpret p-value\n",
        "alpha = 1.0 - prob\n",
        "print('Significancia=%.3f, p=%.3f' % (alpha, p))\n",
        "if p <= alpha:\n",
        "    print('Dependiente (Rechaza H0)')\n",
        "else:\n",
        "    print('Independent (No rechaza H0)')"
      ]
    },
    {
      "cell_type": "markdown",
      "metadata": {
        "id": "AEqUf3zHfjCI"
      },
      "source": [
        "# Ejemplos de regresion"
      ]
    },
    {
      "cell_type": "code",
      "execution_count": null,
      "metadata": {
        "id": "jvI-AuW1fjCI",
        "outputId": "681a43d2-7b56-48a4-e35f-2f30c62d4240"
      },
      "outputs": [
        {
          "name": "stdout",
          "output_type": "stream",
          "text": [
            "     x    y  ŷ = 2.5x - 2  residuo (y - ŷ)  (y - ŷ)^2\n",
            "0  1.0  1.0           0.5              0.5       0.25\n",
            "1  2.0  2.0           3.0             -1.0       1.00\n",
            "2  3.0  6.0           5.5              0.5       0.25\n",
            "\n",
            "RSS: 1.5\n",
            "RMSD: 1.2247\n"
          ]
        },
        {
          "data": {
            "image/png": "[encoded data removed]",
            "text/plain": [
              "<Figure size 600x600 with 1 Axes>"
            ]
          },
          "metadata": {},
          "output_type": "display_data"
        }
      ],
      "source": [
        "import math\n",
        "import numpy as np\n",
        "import matplotlib.pyplot as plt\n",
        "import pandas as pd\n",
        "\n",
        "# =====================\n",
        "# Datos de ejemplo\n",
        "# =====================\n",
        "x = np.array([1, 2, 3], dtype=float)\n",
        "y = np.array([1, 2, 6], dtype=float)   # Valores observados\n",
        "\n",
        "# Recta dada: ŷ = 2.5x - 2\n",
        "def y_hat(x):\n",
        "    return 2.5 * x - 2\n",
        "\n",
        "y_pred = y_hat(x)\n",
        "residuals = y - y_pred\n",
        "\n",
        "# =====================\n",
        "# Cálculo de RMSD\n",
        "# =====================\n",
        "n = len(x)\n",
        "rss = np.sum(residuals**2)\n",
        "rmsd = math.sqrt(rss / (n - 2)) if n > 2 else float('nan')\n",
        "\n",
        "# =====================\n",
        "# Tabla de resultados\n",
        "# =====================\n",
        "df = pd.DataFrame({\n",
        "    \"x\": x,\n",
        "    \"y\": y,\n",
        "    \"ŷ = 2.5x - 2\": y_pred,\n",
        "    \"residuo (y - ŷ)\": residuals,\n",
        "    \"(y - ŷ)^2\": residuals**2,\n",
        "})\n",
        "print(df)\n",
        "print(\"\\nRSS:\", round(rss, 4))\n",
        "print(\"RMSD:\", round(rmsd, 4))\n",
        "\n",
        "# =====================\n",
        "# Gráfica\n",
        "# =====================\n",
        "plt.figure(figsize=(6,6))\n",
        "\n",
        "# Puntos observados\n",
        "plt.scatter(x, y, color=\"orange\", edgecolor=\"k\", s=80, label=\"Observados\")\n",
        "\n",
        "# Línea de regresión\n",
        "x_line = np.linspace(0.5, 3.2, 100)\n",
        "plt.plot(x_line, y_hat(x_line), \"b-\", linewidth=2, label=\"ŷ = 2.5x − 2\")\n",
        "\n",
        "# Residuos (líneas verticales)\n",
        "for xi, yi, ypi in zip(x, y, y_pred):\n",
        "    plt.plot([xi, xi], [ypi, yi], \"g--\")\n",
        "\n",
        "# Etiquetas\n",
        "plt.xlabel(\"hours studying (x)\")\n",
        "plt.ylabel(\"score (y)\")\n",
        "plt.title(f\"Recta: ŷ = 2.5x − 2 | RMSD = {rmsd:.3f}\")\n",
        "plt.grid(True)\n",
        "plt.legend()\n",
        "\n",
        "plt.show()\n"
      ]
    },
    {
      "cell_type": "markdown",
      "metadata": {
        "id": "_EObyIpkfjCJ"
      },
      "source": [
        "## Regresion lineal"
      ]
    },
    {
      "cell_type": "markdown",
      "metadata": {
        "id": "n1SscIwHfjCJ"
      },
      "source": [
        "<img src=\"imagenes\\imag4.png\" width=\"800px\" height=\"300px\">"
      ]
    },
    {
      "cell_type": "markdown",
      "metadata": {
        "id": "S_KNT2AVfjCK"
      },
      "source": [
        "<img src=\"imagenes\\imag5.png\" width=\"800px\" height=\"800px\">"
      ]
    },
    {
      "cell_type": "markdown",
      "metadata": {
        "id": "XAImK6AKfjCK"
      },
      "source": [
        "<img src=\"imagenes\\imag6.png\" width=\"800px\" height=\"800px\">"
      ]
    },
    {
      "cell_type": "markdown",
      "metadata": {
        "id": "QJ1gJcvzfjCK"
      },
      "source": [
        "<img src=\"imagenes\\imag7.png\" width=\"800px\" height=\"300px\">"
      ]
    },
    {
      "cell_type": "markdown",
      "metadata": {
        "id": "azhYiJM0fjCK"
      },
      "source": [
        "<img src=\"imagenes\\explicacion.png\" width=\"800px\" height=\"800px\">"
      ]
    },
    {
      "cell_type": "markdown",
      "metadata": {
        "id": "KwKOTdThfjCK"
      },
      "source": [
        "<img src=\"imagenes\\intercepto.png\" width=\"800px\" height=\"600px\">"
      ]
    }
  ],
  "metadata": {
    "kaggle": {
      "accelerator": "none",
      "dataSources": [
        {
          "datasetId": 2506069,
          "sourceId": 4254499,
          "sourceType": "datasetVersion"
        }
      ],
      "dockerImageVersionId": 30260,
      "isGpuEnabled": false,
      "isInternetEnabled": true,
      "language": "python",
      "sourceType": "notebook"
    },
    "kernelspec": {
      "display_name": ".venv (3.12.6)",
      "language": "python",
      "name": "python3"
    },
    "language_info": {
      "codemirror_mode": {
        "name": "ipython",
        "version": 3
      },
      "file_extension": ".py",
      "mimetype": "text/x-python",
      "name": "python",
      "nbconvert_exporter": "python",
      "pygments_lexer": "ipython3",
      "version": "3.12.6"
    },
    "colab": {
      "provenance": [],
      "include_colab_link": true
    }
  },
  "nbformat": 4,
  "nbformat_minor": 0
}